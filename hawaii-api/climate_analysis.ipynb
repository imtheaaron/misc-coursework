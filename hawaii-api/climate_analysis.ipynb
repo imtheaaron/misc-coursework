{
 "cells": [
  {
   "cell_type": "code",
   "execution_count": 2,
   "metadata": {},
   "outputs": [],
   "source": [
    "#import all dependencies\n",
    "import matplotlib.pyplot as plt\n",
    "import numpy as np\n",
    "import seaborn as sns #becuase I like pretty graphs\n",
    "import pandas as pd\n",
    "import sqlalchemy\n",
    "from sqlalchemy.ext.automap import automap_base\n",
    "from sqlalchemy.orm import Session\n",
    "from sqlalchemy import create_engine, inspect, func"
   ]
  },
  {
   "cell_type": "markdown",
   "metadata": {},
   "source": [
    "Vacation dates: July 26-August 5"
   ]
  },
  {
   "cell_type": "code",
   "execution_count": 3,
   "metadata": {},
   "outputs": [],
   "source": [
    "#create our engine from the existing database\n",
    "engine = create_engine('sqlite:///hawaii.sqlite', echo=False)"
   ]
  },
  {
   "cell_type": "code",
   "execution_count": 4,
   "metadata": {
    "scrolled": true
   },
   "outputs": [],
   "source": [
    "#do the automapping stuff\n",
    "Base = automap_base()\n",
    "Base.prepare(engine, reflect=True)"
   ]
  },
  {
   "cell_type": "code",
   "execution_count": 5,
   "metadata": {},
   "outputs": [
    {
     "data": {
      "text/plain": [
       "['measurements', 'stations']"
      ]
     },
     "execution_count": 5,
     "metadata": {},
     "output_type": "execute_result"
    }
   ],
   "source": [
    "#check out the keys\n",
    "Base.classes.keys()"
   ]
  },
  {
   "cell_type": "code",
   "execution_count": 6,
   "metadata": {},
   "outputs": [],
   "source": [
    "#create classes from the reflected database\n",
    "Station = Base.classes.stations\n",
    "Measurement = Base.classes.measurements"
   ]
  },
  {
   "cell_type": "code",
   "execution_count": 7,
   "metadata": {},
   "outputs": [],
   "source": [
    "#use Session to run our queries\n",
    "session = Session(engine)"
   ]
  },
  {
   "cell_type": "code",
   "execution_count": 8,
   "metadata": {},
   "outputs": [
    {
     "name": "stdout",
     "output_type": "stream",
     "text": [
      "id INTEGER\n",
      "station VARCHAR(20)\n",
      "date VARCHAR\n",
      "prcp FLOAT\n",
      "tobs INTEGER\n"
     ]
    }
   ],
   "source": [
    "#look at the databases to remember what we have in them\n",
    "inspector = inspect(engine)\n",
    "columns = inspector.get_columns('measurements')\n",
    "for c in columns:\n",
    "    print(c['name'], c[\"type\"])"
   ]
  },
  {
   "cell_type": "markdown",
   "metadata": {},
   "source": [
    "### Precipitation Analysis"
   ]
  },
  {
   "cell_type": "code",
   "execution_count": 9,
   "metadata": {},
   "outputs": [],
   "source": [
    "#use datetime to get today's date so we can filter to get the twelve previous months' data\n",
    "import datetime as dt"
   ]
  },
  {
   "cell_type": "code",
   "execution_count": 10,
   "metadata": {},
   "outputs": [
    {
     "data": {
      "text/plain": [
       "datetime.date(2015, 5, 8)"
      ]
     },
     "execution_count": 10,
     "metadata": {},
     "output_type": "execute_result"
    }
   ],
   "source": [
    "year_ago = dt.date.today() - dt.timedelta(days=365)\n",
    "two_years_ago = year_ago - dt.timedelta(days=730)\n",
    "year_ago\n",
    "two_years_ago"
   ]
  },
  {
   "cell_type": "code",
   "execution_count": 11,
   "metadata": {},
   "outputs": [],
   "source": [
    "#query the database to get 12 months of rain, summed up by the date\n",
    "twelve_mo_rain = session.query(Measurement.date, func.sum(Measurement.prcp)).\\\n",
    "    filter(Measurement.date < year_ago, Measurement.date > two_years_ago).\\\n",
    "    group_by(Measurement.date).order_by(Measurement.date).all()"
   ]
  },
  {
   "cell_type": "code",
   "execution_count": 12,
   "metadata": {
    "scrolled": true
   },
   "outputs": [
    {
     "name": "stdout",
     "output_type": "stream",
     "text": [
      "[('2015-05-09', 1.28), ('2015-05-10', 1.32), ('2015-05-11', 0.34), ('2015-05-12', 0.09), ('2015-05-13', 0.02), ('2015-05-14', 1.12), ('2015-05-15', 0.85), ('2015-05-16', 0.36), ('2015-05-17', 0.13), ('2015-05-18', 0.66), ('2015-05-19', 0.02), ('2015-05-20', 0.58), ('2015-05-21', 0.9299999999999999), ('2015-05-22', 0.0), ('2015-05-23', 4.67), ('2015-05-24', 0.0), ('2015-05-25', 0.01), ('2015-05-26', 0.25), ('2015-05-27', 0.64), ('2015-05-28', 3.36), ('2015-05-29', 0.05), ('2015-05-30', 0.17000000000000004), ('2015-05-31', 2.05), ('2015-06-01', 3.12), ('2015-06-02', 0.29000000000000004), ('2015-06-03', 0.01), ('2015-06-04', 2.92), ('2015-06-05', 0.22999999999999998), ('2015-06-06', 0.0), ('2015-06-07', 0.08), ('2015-06-08', 0.46), ('2015-06-09', 0.66), ('2015-06-10', 0.18000000000000002), ('2015-06-11', 0.13), ('2015-06-12', 0.11), ('2015-06-13', 0.01), ('2015-06-14', 0.59), ('2015-06-15', 0.7000000000000001), ('2015-06-16', 1.29), ('2015-06-17', 1.1300000000000001), ('2015-06-18', 1.35), ('2015-06-19', 0.9299999999999999), ('2015-06-20', 0.4), ('2015-06-21', 0.16), ('2015-06-22', 0.29000000000000004), ('2015-06-23', 0.51), ('2015-06-24', 1.2200000000000002), ('2015-06-25', 2.1500000000000004), ('2015-06-26', 0.64), ('2015-06-27', 0.53), ('2015-06-28', 0.18), ('2015-06-29', 2.0), ('2015-06-30', 1.26), ('2015-07-01', 0.01), ('2015-07-02', 0.0), ('2015-07-03', 0.28), ('2015-07-04', 0.0), ('2015-07-05', 0.0), ('2015-07-06', 0.05), ('2015-07-07', 0.14), ('2015-07-08', 1.87), ('2015-07-09', 0.32000000000000006), ('2015-07-10', 3.31), ('2015-07-11', 2.71), ('2015-07-12', 1.66), ('2015-07-13', 2.9699999999999998), ('2015-07-14', 1.0899999999999999), ('2015-07-15', 1.03), ('2015-07-16', 0.9199999999999999), ('2015-07-17', 2.5300000000000002), ('2015-07-18', 0.79), ('2015-07-19', 0.98), ('2015-07-20', 0.04), ('2015-07-21', 0.26), ('2015-07-22', 2.76), ('2015-07-23', 0.09000000000000001), ('2015-07-24', 0.49), ('2015-07-25', 0.4), ('2015-07-26', 0.03), ('2015-07-27', 0.09), ('2015-07-28', 0.56), ('2015-07-29', 0.13999999999999999), ('2015-07-30', 0.06999999999999999), ('2015-07-31', 0.12), ('2015-08-01', 0.77), ('2015-08-02', 0.04), ('2015-08-03', 0.05), ('2015-08-04', 0.01), ('2015-08-05', 0.83), ('2015-08-06', 1.47), ('2015-08-07', 0.6), ('2015-08-08', 0.44000000000000006), ('2015-08-09', 0.6900000000000001), ('2015-08-10', 0.48), ('2015-08-11', 0.29000000000000004), ('2015-08-12', 0.49), ('2015-08-13', 0.76), ('2015-08-14', 1.65), ('2015-08-15', 1.82), ('2015-08-16', 0.32999999999999996), ('2015-08-17', 0.96), ('2015-08-18', 4.12), ('2015-08-19', 0.75), ('2015-08-20', 1.3400000000000003), ('2015-08-21', 1.84), ('2015-08-22', 0.79), ('2015-08-23', 4.33), ('2015-08-24', 16.21), ('2015-08-25', 2.68), ('2015-08-26', 5.949999999999999), ('2015-08-27', 8.59), ('2015-08-28', 0.42), ('2015-08-29', 0.26), ('2015-08-30', 0.11000000000000001), ('2015-08-31', 0.28), ('2015-09-01', 1.0), ('2015-09-02', 0.29000000000000004), ('2015-09-03', 2.49), ('2015-09-04', 4.66), ('2015-09-05', 0.14), ('2015-09-06', 0.73), ('2015-09-07', 2.02), ('2015-09-08', 2.5999999999999996), ('2015-09-09', 0.0), ('2015-09-10', 0.15), ('2015-09-11', 2.82), ('2015-09-12', 11.02), ('2015-09-13', 1.3900000000000001), ('2015-09-14', 4.8), ('2015-09-15', 11.18), ('2015-09-16', 3.25), ('2015-09-17', 0.41000000000000003), ('2015-09-18', 1.12), ('2015-09-19', 0.3), ('2015-09-20', 0.5800000000000001), ('2015-09-21', 2.21), ('2015-09-22', 2.25), ('2015-09-23', 1.47), ('2015-09-24', 1.61), ('2015-09-25', 0.9500000000000001), ('2015-09-26', 2.3), ('2015-09-27', 3.09), ('2015-09-28', 5.6), ('2015-09-29', 1.67), ('2015-09-30', 1.81), ('2015-10-01', 0.51), ('2015-10-02', 0.28), ('2015-10-03', 0.02), ('2015-10-04', 0.4), ('2015-10-05', 3.0199999999999996), ('2015-10-06', 1.3699999999999999), ('2015-10-07', 0.58), ('2015-10-08', 0.17), ('2015-10-09', 2.2299999999999995), ('2015-10-10', 0.11), ('2015-10-11', 1.27), ('2015-10-12', 5.85), ('2015-10-13', 8.020000000000001), ('2015-10-14', 4.03), ('2015-10-15', 4.67), ('2015-10-16', 2.5), ('2015-10-17', 2.56), ('2015-10-18', 0.19), ('2015-10-19', 0.18), ('2015-10-20', 0.97), ('2015-10-21', 0.98), ('2015-10-22', 0.66), ('2015-10-23', 0.35), ('2015-10-24', 0.05), ('2015-10-25', 0.03), ('2015-10-26', 0.19), ('2015-10-27', 2.75), ('2015-10-28', 0.51), ('2015-10-29', 1.8), ('2015-10-30', 0.13), ('2015-10-31', 3.18), ('2015-11-01', 2.7199999999999998), ('2015-11-02', 0.03), ('2015-11-03', 0.0), ('2015-11-04', 0.6799999999999999), ('2015-11-05', 1.72), ('2015-11-06', 1.23), ('2015-11-07', 1.9700000000000002), ('2015-11-08', 1.05), ('2015-11-09', 2.21), ('2015-11-10', 1.0), ('2015-11-11', 0.45), ('2015-11-12', 1.13), ('2015-11-13', 1.2200000000000002), ('2015-11-14', 2.98), ('2015-11-15', 0.17), ('2015-11-16', 0.11), ('2015-11-17', 0.1), ('2015-11-18', 1.6), ('2015-11-19', 0.8), ('2015-11-20', 11.17), ('2015-11-21', 9.17), ('2015-11-22', 5.1), ('2015-11-23', 7.09), ('2015-11-24', 6.090000000000001), ('2015-11-25', 0.49), ('2015-11-26', 6.07), ('2015-11-27', 6.1499999999999995), ('2015-11-28', 0.4), ('2015-11-29', 0.46), ('2015-11-30', 0.13), ('2015-12-01', 0.05), ('2015-12-02', 0.4100000000000001), ('2015-12-03', 1.13), ('2015-12-04', 0.09999999999999999), ('2015-12-05', 0.33), ('2015-12-06', 0.67), ('2015-12-07', 0.06), ('2015-12-08', 0.31), ('2015-12-09', 0.69), ('2015-12-10', 1.4), ('2015-12-11', 0.37), ('2015-12-12', 2.11), ('2015-12-13', 0.04), ('2015-12-14', 0.9), ('2015-12-15', 0.9500000000000001), ('2015-12-16', 0.23), ('2015-12-17', 0.8600000000000001), ('2015-12-18', 1.4300000000000002), ('2015-12-19', 2.23), ('2015-12-20', 0.75), ('2015-12-21', 0.19), ('2015-12-22', 0.18000000000000002), ('2015-12-23', 1.87), ('2015-12-24', 0.46), ('2015-12-25', 2.41), ('2015-12-26', 1.3900000000000001), ('2015-12-27', 4.17), ('2015-12-28', 0.67), ('2015-12-29', 0.29000000000000004), ('2015-12-30', 0.56), ('2015-12-31', 0.25), ('2016-01-01', 0.04), ('2016-01-02', 0.35), ('2016-01-03', 0.0), ('2016-01-04', 0.0), ('2016-01-05', 0.47000000000000003), ('2016-01-06', 2.1799999999999997), ('2016-01-07', 1.9100000000000001), ('2016-01-08', 0.04), ('2016-01-09', 0.05), ('2016-01-10', 0.04), ('2016-01-11', 0.01), ('2016-01-12', 0.37), ('2016-01-13', 0.0), ('2016-01-14', 0.0), ('2016-01-15', 0.16999999999999998), ('2016-01-16', 0.14), ('2016-01-17', 0.02), ('2016-01-18', 0.0), ('2016-01-19', 0.0), ('2016-01-20', 0.09), ('2016-01-21', 1.4100000000000001), ('2016-01-22', 0.01), ('2016-01-23', 0.0), ('2016-01-24', 0.0), ('2016-01-25', 0.56), ('2016-01-26', 1.44), ('2016-01-27', 0.02), ('2016-01-28', 0.0), ('2016-01-29', 0.15), ('2016-01-30', 0.01), ('2016-01-31', 0.1), ('2016-02-01', 0.22), ('2016-02-02', 1.81), ('2016-02-03', 0.74), ('2016-02-04', 0.04), ('2016-02-05', 0.08), ('2016-02-06', 0.0), ('2016-02-07', 0.9), ('2016-02-08', 0.01), ('2016-02-09', 0.0), ('2016-02-10', 0.0), ('2016-02-11', 0.0), ('2016-02-12', 0.29000000000000004), ('2016-02-13', 0.45999999999999996), ('2016-02-14', 0.11), ('2016-02-15', 0.28), ('2016-02-16', 0.18000000000000002), ('2016-02-17', 0.77), ('2016-02-18', 0.06), ('2016-02-19', 1.01), ('2016-02-20', 0.38), ('2016-02-21', 0.18), ('2016-02-22', 0.09), ('2016-02-23', 0.0), ('2016-02-24', 0.0), ('2016-02-25', 0.0), ('2016-02-26', 1.08), ('2016-02-27', 0.08), ('2016-02-28', 0.0), ('2016-02-29', 0.05), ('2016-03-01', 0.43000000000000005), ('2016-03-02', 0.0), ('2016-03-03', 0.0), ('2016-03-04', 0.0), ('2016-03-05', 0.0), ('2016-03-06', 0.0), ('2016-03-07', 0.0), ('2016-03-08', 0.04), ('2016-03-09', 1.39), ('2016-03-10', 0.01), ('2016-03-11', 0.25), ('2016-03-12', 0.0), ('2016-03-13', 0.13), ('2016-03-14', 0.19), ('2016-03-15', 2.8499999999999996), ('2016-03-16', 1.12), ('2016-03-17', 0.03), ('2016-03-18', 0.31), ('2016-03-19', 0.43000000000000005), ('2016-03-20', 0.0), ('2016-03-21', 0.06), ('2016-03-22', 0.1), ('2016-03-23', 3.86), ('2016-03-24', 0.02), ('2016-03-25', 2.46), ('2016-03-26', 1.1600000000000001), ('2016-03-27', 0.1), ('2016-03-28', 0.0), ('2016-03-29', 0.19999999999999998), ('2016-03-30', 0.09000000000000001), ('2016-03-31', 0.01), ('2016-04-01', 0.02), ('2016-04-02', 0.02), ('2016-04-03', 0.0), ('2016-04-04', 0.29), ('2016-04-05', 0.29000000000000004), ('2016-04-06', 1.26), ('2016-04-07', 1.17), ('2016-04-08', 1.57), ('2016-04-09', 1.21), ('2016-04-10', 0.25), ('2016-04-11', 0.56), ('2016-04-12', 0.93), ('2016-04-13', 0.64), ('2016-04-14', 0.9299999999999999), ('2016-04-15', 0.59), ('2016-04-16', 0.4), ('2016-04-17', 1.26), ('2016-04-18', 7.39), ('2016-04-19', 0.21), ('2016-04-20', 0.28), ('2016-04-21', 0.17), ('2016-04-22', 0.30000000000000004), ('2016-04-23', 1.4), ('2016-04-24', 1.66), ('2016-04-25', 0.09), ('2016-04-26', 0.03), ('2016-04-27', 0.31000000000000005), ('2016-04-28', 0.08), ('2016-04-29', 0.25), ('2016-04-30', 0.28), ('2016-05-01', 0.53), ('2016-05-02', 0.8), ('2016-05-03', 0.06), ('2016-05-04', 1.83), ('2016-05-05', 3.67), ('2016-05-06', 0.37), ('2016-05-07', 4.380000000000001), ('2016-05-08', 2.0300000000000002), ('2016-05-09', 0.27), ('2016-05-10', 1.31), ('2016-05-11', 0.18), ('2016-05-12', 0.07), ('2016-05-13', 0.45), ('2016-05-14', 0.27), ('2016-05-15', 0.48000000000000004), ('2016-05-16', 0.08), ('2016-05-17', 0.08), ('2016-05-18', 1.0699999999999998), ('2016-05-19', 0.67), ('2016-05-20', 1.02), ('2016-05-21', 0.31), ('2016-05-22', 0.08), ('2016-05-23', 0.11), ('2016-05-24', 0.1), ('2016-05-25', 0.58), ('2016-05-26', 3.9399999999999995), ('2016-05-27', 0.24000000000000002), ('2016-05-28', 0.55), ('2016-05-29', 0.54), ('2016-05-30', 0.24), ('2016-05-31', 3.4799999999999995), ('2016-06-01', 4.34), ('2016-06-02', 1.77), ('2016-06-03', 0.7699999999999999), ('2016-06-04', 0.02), ('2016-06-05', 0.99), ('2016-06-06', 1.52), ('2016-06-07', 2.09), ('2016-06-08', 0.01), ('2016-06-09', 2.48), ('2016-06-10', 2.4899999999999998), ('2016-06-11', 0.81), ('2016-06-12', 1.26), ('2016-06-13', 0.29), ('2016-06-14', 0.45), ('2016-06-15', 2.7), ('2016-06-16', 0.38), ('2016-06-17', 2.29), ('2016-06-18', 1.45), ('2016-06-19', 0.96), ('2016-06-20', 1.69), ('2016-06-21', 0.88), ('2016-06-22', 0.42000000000000004), ('2016-06-23', 1.6400000000000001), ('2016-06-24', 0.18), ('2016-06-25', 2.23), ('2016-06-26', 0.83), ('2016-06-27', 0.74), ('2016-06-28', 0.5), ('2016-06-29', 0.54), ('2016-06-30', 0.01), ('2016-07-01', 0.0), ('2016-07-02', 0.0), ('2016-07-03', 0.2), ('2016-07-04', 0.48000000000000004), ('2016-07-05', 0.8600000000000001), ('2016-07-06', 3.07), ('2016-07-07', 1.33), ('2016-07-08', 0.42), ('2016-07-09', 0.19), ('2016-07-10', 2.4299999999999997), ('2016-07-11', 0.43), ('2016-07-12', 0.11), ('2016-07-13', 0.32), ('2016-07-14', 2.76), ('2016-07-15', 3.38), ('2016-07-16', 4.29), ('2016-07-17', 0.73), ('2016-07-18', 2.35), ('2016-07-19', 2.29), ('2016-07-20', 0.12), ('2016-07-21', 0.15000000000000002), ('2016-07-22', 0.21000000000000002), ('2016-07-23', 0.23), ('2016-07-24', 3.66), ('2016-07-25', 29.85), ('2016-07-26', 0.9400000000000001), ('2016-07-27', 0.12), ('2016-07-28', 0.05), ('2016-07-29', 0.060000000000000005), ('2016-07-30', 0.52), ('2016-07-31', 3.92), ('2016-08-01', 8.71), ('2016-08-02', 2.84), ('2016-08-03', 0.05), ('2016-08-04', 1.81), ('2016-08-05', 0.34), ('2016-08-06', 0.25), ('2016-08-07', 3.34), ('2016-08-08', 0.6600000000000001), ('2016-08-09', 0.5900000000000001), ('2016-08-10', 0.0), ('2016-08-11', 0.09), ('2016-08-12', 0.58), ('2016-08-13', 0.54), ('2016-08-14', 1.02), ('2016-08-15', 1.35), ('2016-08-16', 1.0899999999999999), ('2016-08-17', 0.61), ('2016-08-18', 0.22), ('2016-08-19', 2.86), ('2016-08-20', 0.36), ('2016-08-21', 2.01), ('2016-08-22', 5.26), ('2016-08-23', 2.71), ('2016-08-24', 9.329999999999998), ('2016-08-25', 0.54), ('2016-08-26', 0.09999999999999999), ('2016-08-27', 0.31999999999999995), ('2016-08-28', 3.0999999999999996), ('2016-08-29', 1.46), ('2016-08-30', 0.07), ('2016-08-31', 3.1799999999999997), ('2016-09-01', 0.03), ('2016-09-02', 0.25), ('2016-09-03', 1.27), ('2016-09-04', 1.3800000000000001), ('2016-09-05', 0.33999999999999997), ('2016-09-06', 1.23), ('2016-09-07', 2.0), ('2016-09-08', 0.4600000000000001), ('2016-09-09', 1.0699999999999998), ('2016-09-10', 1.4), ('2016-09-11', 1.25), ('2016-09-12', 1.54), ('2016-09-13', 2.71), ('2016-09-14', 14.280000000000001), ('2016-09-15', 4.96), ('2016-09-16', 0.8200000000000001), ('2016-09-17', 0.6799999999999999), ('2016-09-18', 0.53), ('2016-09-19', 0.32), ('2016-09-20', 1.03), ('2016-09-21', 1.17), ('2016-09-22', 1.44), ('2016-09-23', 1.57), ('2016-09-24', 0.28), ('2016-09-25', 0.09), ('2016-09-26', 1.67), ('2016-09-27', 1.3599999999999999), ('2016-09-28', 0.13), ('2016-09-29', 2.99), ('2016-09-30', 1.15), ('2016-10-01', 1.4500000000000002), ('2016-10-02', 0.72), ('2016-10-03', 0.6900000000000001), ('2016-10-04', 3.4899999999999998), ('2016-10-05', 0.8200000000000001), ('2016-10-06', 0.16), ('2016-10-07', 0.01), ('2016-10-08', 0.04), ('2016-10-09', 0.0), ('2016-10-10', 0.0), ('2016-10-11', 0.69), ('2016-10-12', 0.08), ('2016-10-13', 0.08), ('2016-10-14', 0.0), ('2016-10-15', 0.39), ('2016-10-16', 0.0), ('2016-10-17', 0.55), ('2016-10-18', 0.6), ('2016-10-19', 0.16999999999999998), ('2016-10-20', 1.01), ('2016-10-21', 0.32), ('2016-10-22', 1.77), ('2016-10-23', 0.27999999999999997), ('2016-10-24', 0.7899999999999999), ('2016-10-25', 1.1), ('2016-10-26', 0.29000000000000004), ('2016-10-27', 1.8599999999999999), ('2016-10-28', 0.5700000000000001), ('2016-10-29', 0.64), ('2016-10-30', 1.5899999999999999), ('2016-10-31', 1.61), ('2016-11-01', 0.21000000000000002), ('2016-11-02', 0.04), ('2016-11-03', 0.02), ('2016-11-04', 0.06), ('2016-11-05', 0.45), ('2016-11-06', 0.08), ('2016-11-07', 0.18), ('2016-11-08', 1.12), ('2016-11-09', 0.39999999999999997), ('2016-11-10', 0.01), ('2016-11-11', 0.0), ('2016-11-12', 0.0), ('2016-11-13', 0.0), ('2016-11-14', 0.15), ('2016-11-15', 0.05), ('2016-11-16', 1.54), ('2016-11-17', 0.06), ('2016-11-18', 0.03), ('2016-11-19', 0.38), ('2016-11-20', 0.9500000000000001), ('2016-11-21', 3.08), ('2016-11-22', 5.01), ('2016-11-23', 0.67), ('2016-11-24', 1.48), ('2016-11-25', 1.32), ('2016-11-26', 0.51), ('2016-11-27', 0.55), ('2016-11-28', 0.72), ('2016-11-29', 0.43000000000000005), ('2016-11-30', 1.06), ('2016-12-01', 1.77), ('2016-12-02', 2.36), ('2016-12-03', 2.71), ('2016-12-04', 0.8), ('2016-12-05', 3.24), ('2016-12-06', 0.04), ('2016-12-07', 0.38), ('2016-12-08', 0.4600000000000001), ('2016-12-09', 1.85), ('2016-12-10', 0.13), ('2016-12-11', 0.25), ('2016-12-12', 0.05), ('2016-12-13', 0.77), ('2016-12-14', 1.5), ('2016-12-15', 0.26), ('2016-12-16', 0.04), ('2016-12-17', 0.35000000000000003), ('2016-12-18', 0.89), ('2016-12-19', 0.42000000000000004), ('2016-12-20', 0.03), ('2016-12-21', 0.9), ('2016-12-22', 2.4699999999999998), ('2016-12-23', 1.23), ('2016-12-24', 1.62), ('2016-12-25', 0.43), ('2016-12-26', 2.04), ('2016-12-27', 0.24000000000000002), ('2016-12-28', 0.41000000000000003), ('2016-12-29', 2.38), ('2016-12-30', 3.35), ('2016-12-31', 2.14), ('2017-01-01', 0.35), ('2017-01-02', 0.02), ('2017-01-03', 0.0), ('2017-01-04', 0.18), ('2017-01-05', 0.95), ('2017-01-06', 0.7999999999999999), ('2017-01-07', 0.06), ('2017-01-08', 0.06), ('2017-01-09', 0.0), ('2017-01-10', 0.0), ('2017-01-11', 0.0), ('2017-01-12', 0.0), ('2017-01-13', 0.0), ('2017-01-14', 0.01), ('2017-01-15', 0.01), ('2017-01-16', 0.0), ('2017-01-17', 0.0), ('2017-01-18', 0.07), ('2017-01-19', 0.02), ('2017-01-20', 0.0), ('2017-01-21', 0.27999999999999997), ('2017-01-22', 1.02), ('2017-01-23', 0.94), ('2017-01-24', 2.25), ('2017-01-25', 3.58), ('2017-01-26', 0.11), ('2017-01-27', 0.06), ('2017-01-28', 0.14), ('2017-01-29', 0.99), ('2017-01-30', 0.05), ('2017-01-31', 0.0), ('2017-02-01', 0.0), ('2017-02-02', 0.0), ('2017-02-03', 0.0), ('2017-02-04', 0.0), ('2017-02-05', 0.0), ('2017-02-06', 0.38), ('2017-02-07', 7.4), ('2017-02-08', 1.08), ('2017-02-09', 0.02), ('2017-02-10', 0.0), ('2017-02-11', 11.200000000000001), ('2017-02-12', 10.48), ('2017-02-13', 2.9199999999999995), ('2017-02-14', 0.01), ('2017-02-15', 0.08), ('2017-02-16', 2.2199999999999998), ('2017-02-17', 1.0500000000000003), ('2017-02-18', 0.01), ('2017-02-19', 0.19), ('2017-02-20', 0.0), ('2017-02-21', 0.13), ('2017-02-22', 0.9100000000000001), ('2017-02-23', 0.01), ('2017-02-24', 0.0), ('2017-02-25', 0.15), ('2017-02-26', 0.0), ('2017-02-27', 0.0), ('2017-02-28', 0.82), ('2017-03-01', 11.620000000000001), ('2017-03-02', 6.56), ('2017-03-03', 2.23), ('2017-03-04', 0.0), ('2017-03-05', 1.21), ('2017-03-06', 0.54), ('2017-03-07', 0.0), ('2017-03-08', 0.0), ('2017-03-09', 1.9600000000000002), ('2017-03-10', 0.29000000000000004), ('2017-03-11', 0.04), ('2017-03-12', 0.0), ('2017-03-13', 0.0), ('2017-03-14', 0.06), ('2017-03-15', 0.06), ('2017-03-16', 0.0), ('2017-03-17', 0.72), ('2017-03-18', 0.0), ('2017-03-19', 0.0), ('2017-03-20', 0.02), ('2017-03-21', 0.09), ('2017-03-22', 0.0), ('2017-03-23', 0.05), ('2017-03-24', 1.1300000000000001), ('2017-03-25', 1.9700000000000002), ('2017-03-26', 0.0), ('2017-03-27', 0.01), ('2017-03-28', 0.7100000000000001), ('2017-03-29', 0.19), ('2017-03-30', 0.15), ('2017-03-31', 0.01), ('2017-04-01', 0.41000000000000003), ('2017-04-02', 0.0), ('2017-04-03', 0.66), ('2017-04-04', 0.15), ('2017-04-05', 0.66), ('2017-04-06', 0.06), ('2017-04-07', 0.0), ('2017-04-08', 0.0), ('2017-04-09', 0.0), ('2017-04-10', 0.02), ('2017-04-11', 0.47), ('2017-04-12', 1.08), ('2017-04-13', 1.09), ('2017-04-14', 6.72), ('2017-04-15', 1.7400000000000002), ('2017-04-16', 1.07), ('2017-04-17', 3.0700000000000003), ('2017-04-18', 3.36), ('2017-04-19', 0.2), ('2017-04-20', 0.78), ('2017-04-21', 8.38), ('2017-04-22', 4.960000000000001), ('2017-04-23', 0.45999999999999996), ('2017-04-24', 0.060000000000000005), ('2017-04-25', 0.0), ('2017-04-26', 0.39), ('2017-04-27', 0.42), ('2017-04-28', 4.24), ('2017-04-29', 8.04), ('2017-04-30', 6.42), ('2017-05-01', 0.81), ('2017-05-02', 0.05), ('2017-05-03', 0.03), ('2017-05-04', 0.08), ('2017-05-05', 0.38), ('2017-05-06', 0.06)]\n"
     ]
    }
   ],
   "source": [
    "#check our output\n",
    "print(twelve_mo_rain)"
   ]
  },
  {
   "cell_type": "code",
   "execution_count": 13,
   "metadata": {},
   "outputs": [
    {
     "data": {
      "text/html": [
       "<div>\n",
       "<style scoped>\n",
       "    .dataframe tbody tr th:only-of-type {\n",
       "        vertical-align: middle;\n",
       "    }\n",
       "\n",
       "    .dataframe tbody tr th {\n",
       "        vertical-align: top;\n",
       "    }\n",
       "\n",
       "    .dataframe thead th {\n",
       "        text-align: right;\n",
       "    }\n",
       "</style>\n",
       "<table border=\"1\" class=\"dataframe\">\n",
       "  <thead>\n",
       "    <tr style=\"text-align: right;\">\n",
       "      <th></th>\n",
       "      <th>date</th>\n",
       "      <th>precipitation</th>\n",
       "    </tr>\n",
       "  </thead>\n",
       "  <tbody>\n",
       "    <tr>\n",
       "      <th>0</th>\n",
       "      <td>2015-05-09</td>\n",
       "      <td>1.28</td>\n",
       "    </tr>\n",
       "    <tr>\n",
       "      <th>1</th>\n",
       "      <td>2015-05-10</td>\n",
       "      <td>1.32</td>\n",
       "    </tr>\n",
       "    <tr>\n",
       "      <th>2</th>\n",
       "      <td>2015-05-11</td>\n",
       "      <td>0.34</td>\n",
       "    </tr>\n",
       "    <tr>\n",
       "      <th>3</th>\n",
       "      <td>2015-05-12</td>\n",
       "      <td>0.09</td>\n",
       "    </tr>\n",
       "    <tr>\n",
       "      <th>4</th>\n",
       "      <td>2015-05-13</td>\n",
       "      <td>0.02</td>\n",
       "    </tr>\n",
       "  </tbody>\n",
       "</table>\n",
       "</div>"
      ],
      "text/plain": [
       "         date  precipitation\n",
       "0  2015-05-09           1.28\n",
       "1  2015-05-10           1.32\n",
       "2  2015-05-11           0.34\n",
       "3  2015-05-12           0.09\n",
       "4  2015-05-13           0.02"
      ]
     },
     "execution_count": 13,
     "metadata": {},
     "output_type": "execute_result"
    }
   ],
   "source": [
    "twelve_df = pd.DataFrame(twelve_mo_rain, columns=['date', 'precipitation'])\n",
    "#twelve_df.set_index('date', inplace=True)\n",
    "twelve_df.head()"
   ]
  },
  {
   "cell_type": "code",
   "execution_count": 14,
   "metadata": {},
   "outputs": [
    {
     "data": {
      "image/png": "[encoded data removed]",
      "text/plain": [
       "<matplotlib.figure.Figure at 0x1c6c3567ef0>"
      ]
     },
     "metadata": {},
     "output_type": "display_data"
    }
   ],
   "source": [
    "#plot the results\n",
    "sns.set_style('white')\n",
    "fig = twelve_df.plot.bar(figsize=(10,7), width=(6))\n",
    "ticks = (np.arange(0,729,60.74))\n",
    "months = ['May 2016', 'Jun 2016', 'Jul 2016', 'Aug 2016', 'Sep 2016', 'Oct 2016',\n",
    "         'Nov 2016', 'Dec 2016', 'Jan 2017', 'Feb 2017', 'Mar 2017', 'Apr 2017', 'May 2017']\n",
    "#fig.set_xticklabels(months)\n",
    "#twelve_df.plot.bar(figsize=(10,7))\n",
    "#plt.tight_layout()\n",
    "#fig.xaxis.set_major_locator(plt.LinearLocator(10, 30))\n",
    "plt.xticks(ticks, months)\n",
    "plt.ylabel('Inches of Rain')\n",
    "plt.show()\n",
    "\n",
    "#note: the exercise says to set the date as the index for the dataframe to plot. When doing this,\n",
    "#I could not then reduce the number of labels. The plot was flooded with xtick labels.\n",
    "#Therefore, I kept date as a dataframe column, and then hard coded the x labels as the relevant months.\n",
    "# I realize this is not ideal but after two hours of struggle could not figure out any other way to\n",
    "#get the xtick labels looking even marginally ok. PLUS, if you look at the example graph given in the\n",
    "#homework, even that graph has funky dates: they aren't in sequntial order (and at least mine are.)"
   ]
  },
  {
   "cell_type": "code",
   "execution_count": null,
   "metadata": {},
   "outputs": [],
   "source": [
    "twelve_df.set_index('date', inplace=True)"
   ]
  },
  {
   "cell_type": "code",
   "execution_count": 55,
   "metadata": {},
   "outputs": [
    {
     "name": "stderr",
     "output_type": "stream",
     "text": [
      "C:\\Users\\Aaron\\Anaconda3\\envs\\PythonData\\lib\\site-packages\\matplotlib\\figure.py:418: UserWarning: matplotlib is currently using a non-GUI backend, so cannot show the figure\n",
      "  \"matplotlib is currently using a non-GUI backend, \"\n"
     ]
    },
    {
     "data": {
      "image/png": "[encoded data removed]",
      "text/plain": [
       "<matplotlib.figure.Figure at 0x1c6c44aa5c0>"
      ]
     },
     "metadata": {},
     "output_type": "display_data"
    }
   ],
   "source": [
    "#plotting with the code linked to by Anna for limiting the number of ticks:\n",
    "sns.set_style('darkgrid')\n",
    "n=60\n",
    "\n",
    "ax=twelve_df.plot(kind='bar', figsize=(12,9), width=(6), facecolor='green')\n",
    "ticks = ax.xaxis.get_ticklocs()\n",
    "ticklabels = [l.get_text() for l in ax.xaxis.get_ticklabels()]\n",
    "ax.xaxis.set_ticks(ticks[::n])\n",
    "ax.xaxis.set_ticklabels(ticklabels[::n])\n",
    "plt.ylabel('Total Inches of Rain', size='14')\n",
    "plt.xlabel('Date', size='14')\n",
    "plt.title('Hawaii Precipitation', size='16')\n",
    "ax.legend().set_visible(False) #removing legend since it's pretty much redundant with the axes labels.\n",
    "ax.figure.show()"
   ]
  },
  {
   "cell_type": "code",
   "execution_count": 25,
   "metadata": {},
   "outputs": [
    {
     "data": {
      "text/html": [
       "<div>\n",
       "<style scoped>\n",
       "    .dataframe tbody tr th:only-of-type {\n",
       "        vertical-align: middle;\n",
       "    }\n",
       "\n",
       "    .dataframe tbody tr th {\n",
       "        vertical-align: top;\n",
       "    }\n",
       "\n",
       "    .dataframe thead th {\n",
       "        text-align: right;\n",
       "    }\n",
       "</style>\n",
       "<table border=\"1\" class=\"dataframe\">\n",
       "  <thead>\n",
       "    <tr style=\"text-align: right;\">\n",
       "      <th></th>\n",
       "      <th>precipitation</th>\n",
       "    </tr>\n",
       "  </thead>\n",
       "  <tbody>\n",
       "    <tr>\n",
       "      <th>count</th>\n",
       "      <td>729.000000</td>\n",
       "    </tr>\n",
       "    <tr>\n",
       "      <th>mean</th>\n",
       "      <td>1.181015</td>\n",
       "    </tr>\n",
       "    <tr>\n",
       "      <th>std</th>\n",
       "      <td>2.162121</td>\n",
       "    </tr>\n",
       "    <tr>\n",
       "      <th>min</th>\n",
       "      <td>0.000000</td>\n",
       "    </tr>\n",
       "    <tr>\n",
       "      <th>25%</th>\n",
       "      <td>0.080000</td>\n",
       "    </tr>\n",
       "    <tr>\n",
       "      <th>50%</th>\n",
       "      <td>0.460000</td>\n",
       "    </tr>\n",
       "    <tr>\n",
       "      <th>75%</th>\n",
       "      <td>1.370000</td>\n",
       "    </tr>\n",
       "    <tr>\n",
       "      <th>max</th>\n",
       "      <td>29.850000</td>\n",
       "    </tr>\n",
       "  </tbody>\n",
       "</table>\n",
       "</div>"
      ],
      "text/plain": [
       "       precipitation\n",
       "count     729.000000\n",
       "mean        1.181015\n",
       "std         2.162121\n",
       "min         0.000000\n",
       "25%         0.080000\n",
       "50%         0.460000\n",
       "75%         1.370000\n",
       "max        29.850000"
      ]
     },
     "execution_count": 25,
     "metadata": {},
     "output_type": "execute_result"
    }
   ],
   "source": [
    "#Use Pandas to print summary statistics for the precipitation data\n",
    "twelve_df.describe(include='all')"
   ]
  },
  {
   "cell_type": "markdown",
   "metadata": {},
   "source": [
    "### STATION ANALYSIS"
   ]
  },
  {
   "cell_type": "code",
   "execution_count": 26,
   "metadata": {},
   "outputs": [
    {
     "name": "stdout",
     "output_type": "stream",
     "text": [
      "The total number of stations is 9.\n"
     ]
    }
   ],
   "source": [
    "#find the number of stations\n",
    "number_stations = session.query(func.count(Station.station)).one()\n",
    "number_stations[0]\n",
    "print(f\"The total number of stations is {number_stations[0]}.\")"
   ]
  },
  {
   "cell_type": "code",
   "execution_count": 27,
   "metadata": {},
   "outputs": [
    {
     "data": {
      "text/plain": [
       "[('USC00519281', 2772),\n",
       " ('USC00519397', 2724),\n",
       " ('USC00513117', 2709),\n",
       " ('USC00519523', 2669),\n",
       " ('USC00516128', 2612),\n",
       " ('USC00514830', 2202),\n",
       " ('USC00511918', 1979),\n",
       " ('USC00517948', 1372),\n",
       " ('USC00518838', 511)]"
      ]
     },
     "execution_count": 27,
     "metadata": {},
     "output_type": "execute_result"
    }
   ],
   "source": [
    "#find the \n",
    "activity = session.query(Measurement.station, func.count(Measurement.tobs)).\\\n",
    "    group_by(Measurement.station).order_by(func.count(Measurement.tobs).desc()).all()\n",
    "activity"
   ]
  },
  {
   "cell_type": "code",
   "execution_count": 28,
   "metadata": {},
   "outputs": [],
   "source": [
    "most_active = session.query(Measurement.tobs).\\\n",
    "    filter(Measurement.date < year_ago, Measurement.date > two_years_ago).\\\n",
    "    filter(Measurement.station == 'USC00519281').all()"
   ]
  },
  {
   "cell_type": "code",
   "execution_count": 29,
   "metadata": {
    "scrolled": true
   },
   "outputs": [
    {
     "data": {
      "text/plain": [
       "728"
      ]
     },
     "execution_count": 29,
     "metadata": {},
     "output_type": "execute_result"
    }
   ],
   "source": [
    "most_active\n",
    "most_active = list(np.ravel(most_active))\n",
    "len(most_active)"
   ]
  },
  {
   "cell_type": "code",
   "execution_count": 54,
   "metadata": {},
   "outputs": [
    {
     "data": {
      "image/png": "[encoded data removed]",
      "text/plain": [
       "<matplotlib.figure.Figure at 0x1c6c3ba3278>"
      ]
     },
     "metadata": {},
     "output_type": "display_data"
    }
   ],
   "source": [
    "sns.set_style('darkgrid')\n",
    "fig, ax = plt.subplots(figsize=(8, 6))\n",
    "n, bins, patches = ax.hist(most_active, 12, facecolor='yellow', edgecolor='black')\n",
    "ax.plot()\n",
    "ax.set_ylabel('Frequency', size='14')\n",
    "ax.set_xlabel('Temperature (F)', size='14')\n",
    "ax.set_title('Frequency of Recorded Temperatures', size='16')\n",
    "ax.set_xlim(55,85)\n",
    "fig.tight_layout()\n",
    "plt.show()"
   ]
  },
  {
   "cell_type": "markdown",
   "metadata": {},
   "source": [
    "### Temperature Analysis"
   ]
  },
  {
   "cell_type": "code",
   "execution_count": 48,
   "metadata": {},
   "outputs": [],
   "source": [
    "from datetime import datetime"
   ]
  },
  {
   "cell_type": "code",
   "execution_count": 49,
   "metadata": {},
   "outputs": [],
   "source": [
    "def calc_temps(start, end):\n",
    "    start_time = datetime.strptime(start, '%Y-%m-%d')\n",
    "    end_time = datetime.strptime(end, '%Y-%m-%d')\n",
    "    temps = session.query(func.min(Measurement.tobs), \\\n",
    "                          func.avg(Measurement.tobs), func.max(Measurement.tobs)).\\\n",
    "            filter(Measurement.date >= start_time-dt.timedelta(days=365), \\\n",
    "                   Measurement.date <= end_time-dt.timedelta(days=365)).all()\n",
    "    return temps"
   ]
  },
  {
   "cell_type": "code",
   "execution_count": 50,
   "metadata": {},
   "outputs": [
    {
     "data": {
      "text/plain": [
       "[72.0, 79.11363636363636, 84.0]"
      ]
     },
     "execution_count": 50,
     "metadata": {},
     "output_type": "execute_result"
    }
   ],
   "source": [
    "data = calc_temps('2018-07-27', '2018-08-05')\n",
    "data = list(np.ravel(data))\n",
    "data"
   ]
  },
  {
   "cell_type": "code",
   "execution_count": 58,
   "metadata": {},
   "outputs": [
    {
     "data": {
      "image/png": "[encoded data removed]",
      "text/plain": [
       "<matplotlib.figure.Figure at 0x1c6c42aaef0>"
      ]
     },
     "metadata": {},
     "output_type": "display_data"
    }
   ],
   "source": [
    "sns.set_style('whitegrid')\n",
    "plt.figure(figsize=(3,7))\n",
    "xticks = ()\n",
    "plt.bar(0, data[1], yerr=(data[2]-data[0]), alpha=0.8, color='orange')\n",
    "plt.xticks(xticks)\n",
    "plt.ylabel('Temp (F)', size='13')\n",
    "plt.title('Trip Avg Temp', size='14')\n",
    "plt.show()"
   ]
  }
 ],
 "metadata": {
  "kernelspec": {
   "display_name": "Python 3",
   "language": "python",
   "name": "python3"
  },
  "language_info": {
   "codemirror_mode": {
    "name": "ipython",
    "version": 3
   },
   "file_extension": ".py",
   "mimetype": "text/x-python",
   "name": "python",
   "nbconvert_exporter": "python",
   "pygments_lexer": "ipython3",
   "version": "3.6.4"
  }
 },
 "nbformat": 4,
 "nbformat_minor": 2
}
